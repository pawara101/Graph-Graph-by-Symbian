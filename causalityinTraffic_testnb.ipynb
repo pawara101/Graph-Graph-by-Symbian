{
 "cells": [
  {
   "cell_type": "code",
   "id": "initial_id",
   "metadata": {
    "collapsed": true,
    "ExecuteTime": {
     "end_time": "2024-07-20T14:43:48.066051Z",
     "start_time": "2024-07-20T14:43:48.061866Z"
    }
   },
   "source": [
    "import argparse, os #pickle, os, #math, random, sys, time\n",
    "from torch.utils.data import Dataset, DataLoader\n",
    "from torchvision import transforms, utils\n",
    "\n",
    "import random\n",
    "import numpy as np\n",
    "import torch\n",
    "import torch.nn as nn\n",
    "import torch.nn.functional as F\n",
    "from data.CausalityInTrafficAccident.loaderData import CausalityInTrafficAccident"
   ],
   "outputs": [],
   "execution_count": 2
  },
  {
   "metadata": {
    "ExecuteTime": {
     "end_time": "2024-07-20T14:44:08.554458Z",
     "start_time": "2024-07-20T14:44:08.547204Z"
    }
   },
   "cell_type": "code",
   "source": [
    "parser = argparse.ArgumentParser(description='Training Framework for Cause and Effect Event Classification')\n",
    "parser.add_argument('--batch_size', type=int, default=16)\n",
    "parser.add_argument('--feature', type=str, default=\"i3d-rgb-x8\")\n",
    "\n",
    "parser.add_argument('--input_size', type=int, default=1024)\n",
    "parser.add_argument('--hidden_size', type=int, default=256)\n",
    "\n",
    "parser.add_argument('--loss_type', type=str, default='CrossEntropy')\n",
    "parser.add_argument('--num_experiments', type=int, default=1)\n",
    "parser.add_argument('--num_epochs', type=int, default=2000)\n",
    "parser.add_argument('--optimizer', type=str, default='adam')\n",
    "parser.add_argument('--learning_rate', type=float, default=1e-4)\n",
    "parser.add_argument('--weight_decay', type=float, default=1e-2)\n",
    "parser.add_argument('--use_dropout', type=float, default=0.5)\n",
    "\n",
    "parser.add_argument('--architecture_type', type=str, default='TSN')\n",
    "parser.add_argument('--consensus_type', type=str, default='average')\n",
    "parser.add_argument('--num_segments', type=int, default=4)\n",
    "parser.add_argument('--new_length', type=int, default=1)\n",
    "\n",
    "parser.add_argument('--dataset_ver', type=str, default='Mar9th')\n",
    "parser.add_argument('--feed_type', type=str, default='classification')\n",
    "parser.add_argument('--logdir', type=str, default='runs')\n",
    "\n",
    "parser.add_argument(\"--random_seed\", type=int, default=0)\n",
    "args = parser.parse_args()\n",
    "p = vars(args)"
   ],
   "id": "a74c18ba879522fd",
   "outputs": [
    {
     "name": "stderr",
     "output_type": "stream",
     "text": [
      "usage: ipykernel_launcher.py [-h] [--batch_size BATCH_SIZE]\n",
      "                             [--feature FEATURE] [--input_size INPUT_SIZE]\n",
      "                             [--hidden_size HIDDEN_SIZE]\n",
      "                             [--loss_type LOSS_TYPE]\n",
      "                             [--num_experiments NUM_EXPERIMENTS]\n",
      "                             [--num_epochs NUM_EPOCHS] [--optimizer OPTIMIZER]\n",
      "                             [--learning_rate LEARNING_RATE]\n",
      "                             [--weight_decay WEIGHT_DECAY]\n",
      "                             [--use_dropout USE_DROPOUT]\n",
      "                             [--architecture_type ARCHITECTURE_TYPE]\n",
      "                             [--consensus_type CONSENSUS_TYPE]\n",
      "                             [--num_segments NUM_SEGMENTS]\n",
      "                             [--new_length NEW_LENGTH]\n",
      "                             [--dataset_ver DATASET_VER]\n",
      "                             [--feed_type FEED_TYPE] [--logdir LOGDIR]\n",
      "                             [--random_seed RANDOM_SEED]\n",
      "ipykernel_launcher.py: error: unrecognized arguments: -f /home/pawarad/.local/share/jupyter/runtime/kernel-50d11525-7e5a-4a87-b5cd-ebc2bcc39151.json\n"
     ]
    },
    {
     "ename": "SystemExit",
     "evalue": "2",
     "output_type": "error",
     "traceback": [
      "An exception has occurred, use %tb to see the full traceback.\n",
      "\u001B[0;31mSystemExit\u001B[0m\u001B[0;31m:\u001B[0m 2\n"
     ]
    },
    {
     "name": "stderr",
     "output_type": "stream",
     "text": [
      "/home/pawarad/anaconda3/envs/nn-env/lib/python3.9/site-packages/IPython/core/interactiveshell.py:3534: UserWarning: To exit: use 'exit', 'quit', or Ctrl-D.\n",
      "  warn(\"To exit: use 'exit', 'quit', or Ctrl-D.\", stacklevel=1)\n"
     ]
    }
   ],
   "execution_count": 3
  },
  {
   "metadata": {},
   "cell_type": "code",
   "outputs": [],
   "execution_count": null,
   "source": "",
   "id": "801cb28787313ec7"
  }
 ],
 "metadata": {
  "kernelspec": {
   "display_name": "Python 3",
   "language": "python",
   "name": "python3"
  },
  "language_info": {
   "codemirror_mode": {
    "name": "ipython",
    "version": 2
   },
   "file_extension": ".py",
   "mimetype": "text/x-python",
   "name": "python",
   "nbconvert_exporter": "python",
   "pygments_lexer": "ipython2",
   "version": "2.7.6"
  }
 },
 "nbformat": 4,
 "nbformat_minor": 5
}
