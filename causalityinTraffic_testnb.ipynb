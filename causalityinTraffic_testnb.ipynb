{
 "cells": [
  {
   "cell_type": "code",
   "execution_count": 1,
   "id": "initial_id",
   "metadata": {
    "ExecuteTime": {
     "end_time": "2024-07-20T14:43:48.066051Z",
     "start_time": "2024-07-20T14:43:48.061866Z"
    },
    "collapsed": true
   },
   "outputs": [],
   "source": [
    "import numpy as np"
   ]
  },
  {
   "cell_type": "code",
   "execution_count": 4,
   "id": "0e6d82f6",
   "metadata": {},
   "outputs": [],
   "source": [
    "File_path = r\"D:\\projects\\Neural-network-project\\Graph-Graph-by-Symbian\\000835.npy\""
   ]
  },
  {
   "cell_type": "code",
   "execution_count": 5,
   "id": "c7adb4a0",
   "metadata": {},
   "outputs": [],
   "source": [
    "frame_stats = np.load(File_path)"
   ]
  },
  {
   "cell_type": "code",
   "execution_count": 10,
   "id": "ffe2ec17",
   "metadata": {},
   "outputs": [
    {
     "data": {
      "text/plain": [
       "(100, 2)"
      ]
     },
     "execution_count": 10,
     "metadata": {},
     "output_type": "execute_result"
    }
   ],
   "source": [
    "frame_stats.shape"
   ]
  },
  {
   "cell_type": "markdown",
   "id": "c5948c5d",
   "metadata": {},
   "source": [
    "I3D Features"
   ]
  },
  {
   "cell_type": "code",
   "execution_count": 7,
   "id": "74d13e34",
   "metadata": {},
   "outputs": [],
   "source": [
    "i3d_features = \"i3d_feat_sample.npy\"\n",
    "i3d = np.load(i3d_features)"
   ]
  },
  {
   "cell_type": "code",
   "execution_count": 9,
   "id": "e1fc3def",
   "metadata": {},
   "outputs": [
    {
     "data": {
      "text/plain": [
       "(100, 2048)"
      ]
     },
     "execution_count": 9,
     "metadata": {},
     "output_type": "execute_result"
    }
   ],
   "source": [
    "i3d.shape"
   ]
  },
  {
   "cell_type": "code",
   "execution_count": null,
   "id": "62a5c72d",
   "metadata": {},
   "outputs": [],
   "source": []
  }
 ],
 "metadata": {
  "kernelspec": {
   "display_name": "Python 3",
   "language": "python",
   "name": "python3"
  },
  "language_info": {
   "codemirror_mode": {
    "name": "ipython",
    "version": 3
   },
   "file_extension": ".py",
   "mimetype": "text/x-python",
   "name": "python",
   "nbconvert_exporter": "python",
   "pygments_lexer": "ipython3",
   "version": "3.9.18"
  }
 },
 "nbformat": 4,
 "nbformat_minor": 5
}
