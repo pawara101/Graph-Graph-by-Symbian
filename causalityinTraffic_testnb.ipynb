{
 "cells": [
  {
   "cell_type": "code",
   "execution_count": 2,
   "id": "initial_id",
   "metadata": {
    "ExecuteTime": {
     "end_time": "2024-07-20T14:43:48.066051Z",
     "start_time": "2024-07-20T14:43:48.061866Z"
    },
    "collapsed": true
   },
   "outputs": [],
   "source": [
    "import torch\n",
    "from torch.utils.data import Dataset\n",
    "from torchvision import datasets\n",
    "from torchvision.transforms import ToTensor\n",
    "import matplotlib.pyplot as plt\n",
    "\n",
    "\n",
    "training_data = datasets.FashionMNIST(\n",
    "    root=\"data\",\n",
    "    train=True,\n",
    "    download=True,\n",
    "    transform=ToTensor()\n",
    ")\n",
    "\n",
    "test_data = datasets.FashionMNIST(\n",
    "    root=\"data\",\n",
    "    train=False,\n",
    "    download=True,\n",
    "    transform=ToTensor()\n",
    ")"
   ]
  },
  {
   "cell_type": "code",
   "execution_count": 3,
   "id": "a74c18ba879522fd",
   "metadata": {
    "ExecuteTime": {
     "end_time": "2024-07-20T14:44:08.554458Z",
     "start_time": "2024-07-20T14:44:08.547204Z"
    }
   },
   "outputs": [
    {
     "name": "stderr",
     "output_type": "stream",
     "text": [
      "usage: ipykernel_launcher.py [-h] [--batch_size BATCH_SIZE]\n",
      "                             [--feature FEATURE] [--input_size INPUT_SIZE]\n",
      "                             [--hidden_size HIDDEN_SIZE]\n",
      "                             [--loss_type LOSS_TYPE]\n",
      "                             [--num_experiments NUM_EXPERIMENTS]\n",
      "                             [--num_epochs NUM_EPOCHS] [--optimizer OPTIMIZER]\n",
      "                             [--learning_rate LEARNING_RATE]\n",
      "                             [--weight_decay WEIGHT_DECAY]\n",
      "                             [--use_dropout USE_DROPOUT]\n",
      "                             [--architecture_type ARCHITECTURE_TYPE]\n",
      "                             [--consensus_type CONSENSUS_TYPE]\n",
      "                             [--num_segments NUM_SEGMENTS]\n",
      "                             [--new_length NEW_LENGTH]\n",
      "                             [--dataset_ver DATASET_VER]\n",
      "                             [--feed_type FEED_TYPE] [--logdir LOGDIR]\n",
      "                             [--random_seed RANDOM_SEED]\n",
      "ipykernel_launcher.py: error: unrecognized arguments: -f /home/pawarad/.local/share/jupyter/runtime/kernel-50d11525-7e5a-4a87-b5cd-ebc2bcc39151.json\n"
     ]
    },
    {
     "ename": "SystemExit",
     "evalue": "2",
     "output_type": "error",
     "traceback": [
      "An exception has occurred, use %tb to see the full traceback.\n",
      "\u001b[0;31mSystemExit\u001b[0m\u001b[0;31m:\u001b[0m 2\n"
     ]
    },
    {
     "name": "stderr",
     "output_type": "stream",
     "text": [
      "/home/pawarad/anaconda3/envs/nn-env/lib/python3.9/site-packages/IPython/core/interactiveshell.py:3534: UserWarning: To exit: use 'exit', 'quit', or Ctrl-D.\n",
      "  warn(\"To exit: use 'exit', 'quit', or Ctrl-D.\", stacklevel=1)\n"
     ]
    }
   ],
   "source": []
  },
  {
   "cell_type": "code",
   "execution_count": null,
   "id": "801cb28787313ec7",
   "metadata": {},
   "outputs": [],
   "source": []
  }
 ],
 "metadata": {
  "kernelspec": {
   "display_name": "Python 3",
   "language": "python",
   "name": "python3"
  },
  "language_info": {
   "codemirror_mode": {
    "name": "ipython",
    "version": 2
   },
   "file_extension": ".py",
   "mimetype": "text/x-python",
   "name": "python",
   "nbconvert_exporter": "python",
   "pygments_lexer": "ipython2",
   "version": "2.7.6"
  }
 },
 "nbformat": 4,
 "nbformat_minor": 5
}
